{
 "cells": [
  {
   "cell_type": "markdown",
   "metadata": {},
   "source": [
    "# Garbage Classification using CNN:"
   ]
  },
  {
   "cell_type": "raw",
   "metadata": {},
   "source": [
    "Step 1: Importing Libraries"
   ]
  },
  {
   "cell_type": "code",
   "execution_count": 1,
   "metadata": {
    "scrolled": true
   },
   "outputs": [
    {
     "name": "stderr",
     "output_type": "stream",
     "text": [
      "Using TensorFlow backend.\n"
     ]
    }
   ],
   "source": [
    "from keras.models import Sequential\n",
    "from keras.layers import Dense\n",
    "from keras.layers import Convolution2D\n",
    "from keras.layers import MaxPooling2D\n",
    "from keras.layers import Flatten"
   ]
  },
  {
   "cell_type": "raw",
   "metadata": {},
   "source": [
    "Step 2: Preprocess the image"
   ]
  },
  {
   "cell_type": "code",
   "execution_count": 2,
   "metadata": {},
   "outputs": [],
   "source": [
    "from keras.preprocessing.image import ImageDataGenerator\n",
    "train_datagen=ImageDataGenerator(rescale=1./255,shear_range=0.2,zoom_range=0.2,horizontal_flip=True)\n",
    "test_datagen=ImageDataGenerator(rescale=1./255)"
   ]
  },
  {
   "cell_type": "raw",
   "metadata": {},
   "source": [
    "Step 3: Read dataset"
   ]
  },
  {
   "cell_type": "code",
   "execution_count": 3,
   "metadata": {},
   "outputs": [
    {
     "name": "stdout",
     "output_type": "stream",
     "text": [
      "Found 1987 images belonging to 4 classes.\n",
      "Found 308 images belonging to 4 classes.\n"
     ]
    }
   ],
   "source": [
    "x_train=train_datagen.flow_from_directory(r\"E:\\AI_INTERSHIP\\garbage data\\trainset\",target_size=(64,64),batch_size=32,class_mode=\"categorical\")\n",
    "x_test=test_datagen.flow_from_directory(r\"E:\\AI_INTERSHIP\\garbage data\\testset\",target_size=(64,64),batch_size=32,class_mode=\"categorical\")"
   ]
  },
  {
   "cell_type": "raw",
   "metadata": {},
   "source": [
    "Step 4: Intialize the model"
   ]
  },
  {
   "cell_type": "code",
   "execution_count": 4,
   "metadata": {},
   "outputs": [],
   "source": [
    "model=Sequential()"
   ]
  },
  {
   "cell_type": "raw",
   "metadata": {},
   "source": [
    "Step 5: add Convolution Layer "
   ]
  },
  {
   "cell_type": "code",
   "execution_count": 5,
   "metadata": {},
   "outputs": [],
   "source": [
    "model.add(Convolution2D(32,(3,3),input_shape=(64,64,3),activation=\"relu\"))"
   ]
  },
  {
   "cell_type": "raw",
   "metadata": {},
   "source": [
    "Step 6: add Pooling Layer"
   ]
  },
  {
   "cell_type": "code",
   "execution_count": 6,
   "metadata": {},
   "outputs": [],
   "source": [
    "model.add(MaxPooling2D(pool_size=(2,2)))"
   ]
  },
  {
   "cell_type": "raw",
   "metadata": {},
   "source": [
    "Step 7: add Flatten Layer"
   ]
  },
  {
   "cell_type": "code",
   "execution_count": 7,
   "metadata": {},
   "outputs": [],
   "source": [
    "model.add(Flatten())"
   ]
  },
  {
   "cell_type": "raw",
   "metadata": {},
   "source": [
    "Step 8: add Dense Layer"
   ]
  },
  {
   "cell_type": "code",
   "execution_count": 8,
   "metadata": {
    "scrolled": true
   },
   "outputs": [
    {
     "name": "stderr",
     "output_type": "stream",
     "text": [
      "C:\\Users\\DELL\\anaconda3\\envs\\tf-gpu\\lib\\site-packages\\ipykernel_launcher.py:1: UserWarning: Update your `Dense` call to the Keras 2 API: `Dense(units=128, activation=\"relu\", kernel_initializer=\"random_uniform\")`\n",
      "  \"\"\"Entry point for launching an IPython kernel.\n"
     ]
    }
   ],
   "source": [
    "model.add(Dense(units=128,init=\"random_uniform\",activation=\"relu\"))"
   ]
  },
  {
   "cell_type": "code",
   "execution_count": 9,
   "metadata": {},
   "outputs": [
    {
     "name": "stderr",
     "output_type": "stream",
     "text": [
      "C:\\Users\\DELL\\anaconda3\\envs\\tf-gpu\\lib\\site-packages\\ipykernel_launcher.py:1: UserWarning: Update your `Dense` call to the Keras 2 API: `Dense(units=4, activation=\"softmax\", kernel_initializer=\"random_uniform\")`\n",
      "  \"\"\"Entry point for launching an IPython kernel.\n"
     ]
    }
   ],
   "source": [
    "model.add(Dense(units=4,init=\"random_uniform\",activation=\"softmax\"))"
   ]
  },
  {
   "cell_type": "raw",
   "metadata": {},
   "source": [
    "Step 9: Configuring Learning Process"
   ]
  },
  {
   "cell_type": "code",
   "execution_count": 10,
   "metadata": {},
   "outputs": [],
   "source": [
    "model.compile(optimizer=\"adam\",loss=\"categorical_crossentropy\",metrics=[\"accuracy\"])"
   ]
  },
  {
   "cell_type": "code",
   "execution_count": 11,
   "metadata": {},
   "outputs": [
    {
     "data": {
      "text/plain": [
       "{'glass': 0, 'metal': 1, 'paper': 2, 'plastic': 3}"
      ]
     },
     "execution_count": 11,
     "metadata": {},
     "output_type": "execute_result"
    }
   ],
   "source": [
    "x_train.class_indices"
   ]
  },
  {
   "cell_type": "raw",
   "metadata": {},
   "source": [
    "Step 10: Fit the data"
   ]
  },
  {
   "cell_type": "code",
   "execution_count": 12,
   "metadata": {},
   "outputs": [
    {
     "name": "stdout",
     "output_type": "stream",
     "text": [
      "Epoch 1/50\n",
      "62/62 [==============================] - 18s 283ms/step - loss: 1.3766 - accuracy: 0.3335 - val_loss: 1.2209 - val_accuracy: 0.3961\n",
      "Epoch 2/50\n",
      "62/62 [==============================] - 17s 276ms/step - loss: 1.2563 - accuracy: 0.3974 - val_loss: 1.2589 - val_accuracy: 0.4026\n",
      "Epoch 3/50\n",
      "62/62 [==============================] - 17s 267ms/step - loss: 1.2312 - accuracy: 0.4281 - val_loss: 1.4227 - val_accuracy: 0.4578\n",
      "Epoch 4/50\n",
      "62/62 [==============================] - 19s 308ms/step - loss: 1.1740 - accuracy: 0.4680 - val_loss: 0.9408 - val_accuracy: 0.5487\n",
      "Epoch 5/50\n",
      "62/62 [==============================] - 18s 283ms/step - loss: 1.1247 - accuracy: 0.5141 - val_loss: 1.0581 - val_accuracy: 0.5195\n",
      "Epoch 6/50\n",
      "62/62 [==============================] - 16s 266ms/step - loss: 1.0796 - accuracy: 0.5422 - val_loss: 1.0543 - val_accuracy: 0.5747\n",
      "Epoch 7/50\n",
      "62/62 [==============================] - 16s 259ms/step - loss: 1.0333 - accuracy: 0.5642 - val_loss: 0.9588 - val_accuracy: 0.5909\n",
      "Epoch 8/50\n",
      "62/62 [==============================] - 16s 262ms/step - loss: 0.9899 - accuracy: 0.5872 - val_loss: 0.9962 - val_accuracy: 0.6006\n",
      "Epoch 9/50\n",
      "62/62 [==============================] - 16s 257ms/step - loss: 0.9919 - accuracy: 0.6085 - val_loss: 0.7278 - val_accuracy: 0.6429\n",
      "Epoch 10/50\n",
      "62/62 [==============================] - 16s 263ms/step - loss: 0.9126 - accuracy: 0.6271 - val_loss: 0.7030 - val_accuracy: 0.6071\n",
      "Epoch 11/50\n",
      "62/62 [==============================] - 16s 261ms/step - loss: 0.8796 - accuracy: 0.6486 - val_loss: 0.8908 - val_accuracy: 0.6948\n",
      "Epoch 12/50\n",
      "62/62 [==============================] - 16s 259ms/step - loss: 0.8494 - accuracy: 0.6481 - val_loss: 0.7885 - val_accuracy: 0.6688\n",
      "Epoch 13/50\n",
      "62/62 [==============================] - 16s 257ms/step - loss: 0.8969 - accuracy: 0.6327 - val_loss: 0.8526 - val_accuracy: 0.7078\n",
      "Epoch 14/50\n",
      "62/62 [==============================] - 16s 258ms/step - loss: 0.8765 - accuracy: 0.6506 - val_loss: 0.8506 - val_accuracy: 0.6786\n",
      "Epoch 15/50\n",
      "62/62 [==============================] - 16s 263ms/step - loss: 0.7855 - accuracy: 0.6875 - val_loss: 0.7189 - val_accuracy: 0.7078\n",
      "Epoch 16/50\n",
      "62/62 [==============================] - 16s 257ms/step - loss: 0.8359 - accuracy: 0.6651 - val_loss: 1.0294 - val_accuracy: 0.7175\n",
      "Epoch 17/50\n",
      "62/62 [==============================] - 16s 259ms/step - loss: 0.7999 - accuracy: 0.6844 - val_loss: 0.6876 - val_accuracy: 0.6916\n",
      "Epoch 18/50\n",
      "62/62 [==============================] - 16s 261ms/step - loss: 0.7678 - accuracy: 0.6890 - val_loss: 0.5378 - val_accuracy: 0.7403\n",
      "Epoch 19/50\n",
      "62/62 [==============================] - 16s 259ms/step - loss: 0.7248 - accuracy: 0.7110 - val_loss: 0.6848 - val_accuracy: 0.7305\n",
      "Epoch 20/50\n",
      "62/62 [==============================] - 16s 260ms/step - loss: 0.7176 - accuracy: 0.7079 - val_loss: 0.5794 - val_accuracy: 0.6883\n",
      "Epoch 21/50\n",
      "62/62 [==============================] - 16s 266ms/step - loss: 0.6801 - accuracy: 0.7253 - val_loss: 0.7181 - val_accuracy: 0.7435\n",
      "Epoch 22/50\n",
      "62/62 [==============================] - 17s 276ms/step - loss: 0.6726 - accuracy: 0.7361 - val_loss: 0.5097 - val_accuracy: 0.7403\n",
      "Epoch 23/50\n",
      "62/62 [==============================] - 17s 273ms/step - loss: 0.6474 - accuracy: 0.7475 - val_loss: 0.4762 - val_accuracy: 0.7825\n",
      "Epoch 24/50\n",
      "62/62 [==============================] - 17s 269ms/step - loss: 0.6537 - accuracy: 0.7544 - val_loss: 0.5983 - val_accuracy: 0.7760\n",
      "Epoch 25/50\n",
      "62/62 [==============================] - 17s 280ms/step - loss: 0.6395 - accuracy: 0.7488 - val_loss: 0.3407 - val_accuracy: 0.7403\n",
      "Epoch 26/50\n",
      "62/62 [==============================] - 16s 264ms/step - loss: 0.6358 - accuracy: 0.7519 - val_loss: 0.5273 - val_accuracy: 0.7727\n",
      "Epoch 27/50\n",
      "62/62 [==============================] - 16s 262ms/step - loss: 0.6292 - accuracy: 0.7586 - val_loss: 0.3775 - val_accuracy: 0.7890\n",
      "Epoch 28/50\n",
      "62/62 [==============================] - 17s 267ms/step - loss: 0.5741 - accuracy: 0.7742 - val_loss: 0.4797 - val_accuracy: 0.7727\n",
      "Epoch 29/50\n",
      "62/62 [==============================] - 16s 259ms/step - loss: 0.5978 - accuracy: 0.7684 - val_loss: 0.6822 - val_accuracy: 0.7987\n",
      "Epoch 30/50\n",
      "62/62 [==============================] - 16s 262ms/step - loss: 0.5733 - accuracy: 0.7703 - val_loss: 0.2572 - val_accuracy: 0.8052\n",
      "Epoch 31/50\n",
      "62/62 [==============================] - 16s 263ms/step - loss: 0.5400 - accuracy: 0.7939 - val_loss: 0.2677 - val_accuracy: 0.7857\n",
      "Epoch 32/50\n",
      "62/62 [==============================] - 16s 259ms/step - loss: 0.5537 - accuracy: 0.7840 - val_loss: 0.5376 - val_accuracy: 0.8117\n",
      "Epoch 33/50\n",
      "62/62 [==============================] - 16s 264ms/step - loss: 0.5458 - accuracy: 0.7980 - val_loss: 0.6047 - val_accuracy: 0.8377\n",
      "Epoch 34/50\n",
      "62/62 [==============================] - 16s 265ms/step - loss: 0.5121 - accuracy: 0.8110 - val_loss: 0.3630 - val_accuracy: 0.8149\n",
      "Epoch 35/50\n",
      "62/62 [==============================] - 16s 258ms/step - loss: 0.5084 - accuracy: 0.8011 - val_loss: 0.5671 - val_accuracy: 0.8312\n",
      "Epoch 36/50\n",
      "62/62 [==============================] - 17s 278ms/step - loss: 0.4862 - accuracy: 0.8175 - val_loss: 0.4816 - val_accuracy: 0.8636\n",
      "Epoch 37/50\n",
      "62/62 [==============================] - 17s 269ms/step - loss: 0.4988 - accuracy: 0.8179 - val_loss: 0.4408 - val_accuracy: 0.8182\n",
      "Epoch 38/50\n",
      "62/62 [==============================] - 17s 268ms/step - loss: 0.4843 - accuracy: 0.8141 - val_loss: 0.4011 - val_accuracy: 0.8247\n",
      "Epoch 39/50\n",
      "62/62 [==============================] - 19s 302ms/step - loss: 0.4649 - accuracy: 0.8271 - val_loss: 0.1778 - val_accuracy: 0.8182\n",
      "Epoch 40/50\n",
      "62/62 [==============================] - 19s 305ms/step - loss: 0.4416 - accuracy: 0.8412 - val_loss: 0.6872 - val_accuracy: 0.8604\n",
      "Epoch 41/50\n",
      "62/62 [==============================] - 16s 262ms/step - loss: 0.4924 - accuracy: 0.8102 - val_loss: 0.3468 - val_accuracy: 0.8571\n",
      "Epoch 42/50\n",
      "62/62 [==============================] - 16s 253ms/step - loss: 0.4455 - accuracy: 0.8414 - val_loss: 0.3296 - val_accuracy: 0.8474\n",
      "Epoch 43/50\n",
      "62/62 [==============================] - 16s 253ms/step - loss: 0.4333 - accuracy: 0.8476 - val_loss: 0.4093 - val_accuracy: 0.8766\n",
      "Epoch 44/50\n",
      "62/62 [==============================] - 16s 254ms/step - loss: 0.4366 - accuracy: 0.8358 - val_loss: 0.3571 - val_accuracy: 0.8409\n",
      "Epoch 45/50\n",
      "62/62 [==============================] - 16s 257ms/step - loss: 0.3872 - accuracy: 0.8536 - val_loss: 0.1454 - val_accuracy: 0.8604\n",
      "Epoch 46/50\n",
      "62/62 [==============================] - 17s 275ms/step - loss: 0.4063 - accuracy: 0.8533 - val_loss: 0.2456 - val_accuracy: 0.8766\n",
      "Epoch 47/50\n",
      "62/62 [==============================] - 17s 282ms/step - loss: 0.3984 - accuracy: 0.8567 - val_loss: 0.6330 - val_accuracy: 0.8149\n",
      "Epoch 48/50\n",
      "62/62 [==============================] - 20s 326ms/step - loss: 0.3998 - accuracy: 0.8569 - val_loss: 0.2061 - val_accuracy: 0.8734\n",
      "Epoch 49/50\n",
      "62/62 [==============================] - 17s 269ms/step - loss: 0.3879 - accuracy: 0.8551 - val_loss: 0.2442 - val_accuracy: 0.8571\n",
      "Epoch 50/50\n",
      "62/62 [==============================] - 16s 262ms/step - loss: 0.3562 - accuracy: 0.8750 - val_loss: 0.1245 - val_accuracy: 0.9156\n"
     ]
    },
    {
     "data": {
      "text/plain": [
       "<keras.callbacks.callbacks.History at 0x172529449c8>"
      ]
     },
     "execution_count": 12,
     "metadata": {},
     "output_type": "execute_result"
    }
   ],
   "source": [
    "model.fit_generator(x_train,steps_per_epoch=62,epochs=50,validation_data=x_test,validation_steps=10)"
   ]
  },
  {
   "cell_type": "raw",
   "metadata": {},
   "source": [
    "Step 11: Saving Model"
   ]
  },
  {
   "cell_type": "code",
   "execution_count": 14,
   "metadata": {},
   "outputs": [],
   "source": [
    "model.save(\"garbage.h5\")"
   ]
  },
  {
   "cell_type": "code",
   "execution_count": null,
   "metadata": {},
   "outputs": [],
   "source": []
  }
 ],
 "metadata": {
  "kernelspec": {
   "display_name": "TensorFlow-GPU",
   "language": "python",
   "name": "tf-gpu"
  },
  "language_info": {
   "codemirror_mode": {
    "name": "ipython",
    "version": 3
   },
   "file_extension": ".py",
   "mimetype": "text/x-python",
   "name": "python",
   "nbconvert_exporter": "python",
   "pygments_lexer": "ipython3",
   "version": "3.7.7"
  }
 },
 "nbformat": 4,
 "nbformat_minor": 4
}
